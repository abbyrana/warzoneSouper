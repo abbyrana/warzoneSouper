{
  "nbformat": 4,
  "nbformat_minor": 0,
  "metadata": {
    "colab": {
      "provenance": [],
      "include_colab_link": true
    },
    "kernelspec": {
      "name": "python3",
      "display_name": "Python 3"
    },
    "language_info": {
      "name": "python"
    }
  },
  "cells": [
    {
      "cell_type": "markdown",
      "metadata": {
        "id": "view-in-github",
        "colab_type": "text"
      },
      "source": [
        "<a href=\"https://colab.research.google.com/github/abbyrana/warzoneSouper/blob/main/WarzoneSoupMT.ipynb\" target=\"_parent\"><img src=\"https://colab.research.google.com/assets/colab-badge.svg\" alt=\"Open In Colab\"/></a>"
      ]
    },
    {
      "cell_type": "markdown",
      "source": [
        "<br>\n",
        "\n",
        "# What I did?\n",
        "\n",
        "*   Extracted data of 1500+ weapon attachments in Call of Duty Warzone from [GAme8](https://game8.co/games/Modern-Warfare-3/archives/431902) via web scraping using [BeautifulSoup4](https://beautiful-soup-4.readthedocs.io/en/latest/) python library.\n",
        "*   Extracted list of all compatible weapons for all 1500+ attachments in a very small amount of time by applying the concept of [Multithreading](https://docs.python.org/3/library/threading.html).\n",
        "*   Built an app on Google [AppSheet](https://about.appsheet.com/home/) which  manages attachment inventory and ranks the best guns which unlock the most best attachments.\n",
        "*   Created database on Google Sheets which is used by the app.\n",
        "\n",
        "<br>"
      ],
      "metadata": {
        "id": "oFCLRpgTQSsP"
      }
    },
    {
      "cell_type": "markdown",
      "source": [
        "<br>Prequisities"
      ],
      "metadata": {
        "id": "aHZE-3YMmgw5"
      }
    },
    {
      "cell_type": "code",
      "execution_count": null,
      "metadata": {
        "id": "tmewY8pcD67b"
      },
      "outputs": [],
      "source": [
        "!pip install beautifulsoup4\n",
        "!pip install lxml"
      ]
    },
    {
      "cell_type": "markdown",
      "source": [
        "<br>Code"
      ],
      "metadata": {
        "id": "56GxSPeRncGJ"
      }
    },
    {
      "cell_type": "code",
      "source": [
        "from bs4 import BeautifulSoup\n",
        "import concurrent.futures\n",
        "import requests\n",
        "\n",
        "\n",
        "\n",
        "# LevelUp class (weapon, level)\n",
        "class LevelUp:\n",
        "  def __init__(self, weapon, level):\n",
        "    self.weapon=weapon\n",
        "    self.level=level\n",
        "  def show(self):\n",
        "    print(f'{self.weapon} \\t {self.level}')\n",
        "\n",
        "\n",
        "\n",
        "# Attachment class (aname, atype, aurl, unlockby, equipin)\n",
        "class Attachment:\n",
        "  equip2 = []\n",
        "  def __init__(self, aname, atype, aurl, unlockby):\n",
        "    self.aname = aname\n",
        "    self.atype = atype\n",
        "    self.aurl = aurl\n",
        "    self.unlockby = unlockby\n",
        "  def equip(self, equip2):\n",
        "    self.equip2 = equip2\n",
        "\n",
        "  # Display funtions to copy data\n",
        "  def showEquip2(self):\n",
        "    wstr = f'{self.equip2[0]}'\n",
        "    for i in range(1, len(self.equip2)):\n",
        "      wstr+=f', {self.equip2[i]}'\n",
        "    print(wstr)\n",
        "\n",
        "  # for Unlock sheet\n",
        "  def taname(self):\n",
        "    for u in self.unlockby:\n",
        "      print(self.aname)\n",
        "  def taweapon(self):\n",
        "    for u in self.unlockby:\n",
        "      print(u.weapon)\n",
        "  def talevel(self):\n",
        "    for u in self.unlockby:\n",
        "      print(u.level)\n",
        "\n",
        "\n",
        "\n",
        "# Worker function for multithreading\n",
        "def fetchEquip2(aobj):\n",
        "  # to handle empty url\n",
        "  if aobj.aurl is None:\n",
        "    return ['']\n",
        "\n",
        "  # fetch the table header for compatible guns\n",
        "  reqa = requests.get(aobj.aurl)\n",
        "  soupa = BeautifulSoup(reqa.content, 'lxml')\n",
        "  ath = soupa.find('th', string=f'Guns That Can Use the Attachment')\n",
        "\n",
        "  # to handle nonexisting data\n",
        "  if ath is None:\n",
        "    return ['']\n",
        "\n",
        "  # get all table cells\n",
        "  atbody = ath.parent.parent\n",
        "  atds = atbody.select('tr > td')\n",
        "\n",
        "  # extract the guns and put into a list\n",
        "  equip2 = []\n",
        "  for atd in atds:\n",
        "    equip2.append(atd.get_text().strip())\n",
        "  return equip2\n",
        "\n",
        "\n",
        "\n",
        "# Get the attachment list page\n",
        "urlAttachList = 'https://game8.co/games/Modern-Warfare-3/archives/431902'\n",
        "reqAttachList = requests.get(urlAttachList)\n",
        "soupAttachList = BeautifulSoup(reqAttachList.content, 'lxml')\n",
        "arows = soupAttachList.select('body > div.l-content > div.l-3col > div.l-3colMain > div.l-3colMain__center.l-3colMain__center--shadow > div.archive-style-wrapper > table.a-table.a-table.a-table.flexible-cell > tbody > tr')\n",
        "\n",
        "\n",
        "\n",
        "# Set all attachment's names, types, url and unlockby\n",
        "attachments = []\n",
        "\n",
        "for arow in arows:\n",
        "  # Get attachment names types and url\n",
        "  aname = arow.select_one('td:nth-child(1)').get_text().strip()\n",
        "  atype = arow.select_one('td:nth-child(2)').get_text().strip()\n",
        "  aurl = arow.select_one('td:nth-child(1) > a')\n",
        "  if aurl is not None:\n",
        "    aurl = aurl.get('href')\n",
        "\n",
        "  # Get weapon and level list\n",
        "  unlockby = []\n",
        "  weps = arow.select('td:nth-child(3) > a')\n",
        "  lvls = arow.select('td:nth-child(3) > b')\n",
        "  if(len(weps) > 0):\n",
        "    for i in range(len(weps)):\n",
        "      wep = weps[i].get_text().strip()\n",
        "      lvl = int(lvls[i].get_text().strip()[6:])\n",
        "      unlockby.append(LevelUp(wep, lvl))\n",
        "\n",
        "  # Set everything to attachment list\n",
        "  attachments.append(Attachment(aname, atype, aurl, unlockby))"
      ],
      "metadata": {
        "id": "M5vCW-GpnkG_"
      },
      "execution_count": null,
      "outputs": []
    },
    {
      "cell_type": "code",
      "source": [
        "# Multithreading Part takes about 5-7 minutes\n",
        "with concurrent.futures.ThreadPoolExecutor() as executor:\n",
        "\n",
        "  # Get all attachment's equip2\n",
        "  wlists = executor.map(fetchEquip2, attachments)\n",
        "\n",
        "  # Set all attachment's equip2\n",
        "  i=0\n",
        "  for wlist in wlists:\n",
        "    attachments[i].equip(wlist)\n",
        "    i+=1"
      ],
      "metadata": {
        "id": "BiVbCIn25dYL"
      },
      "execution_count": null,
      "outputs": []
    },
    {
      "cell_type": "markdown",
      "source": [
        "<br>Actions"
      ],
      "metadata": {
        "id": "XweE8IkeoHSP"
      }
    },
    {
      "cell_type": "code",
      "source": [
        "# Show equip2 for all attachments\n",
        "for a in attachments:\n",
        "  a.showEquip2()"
      ],
      "metadata": {
        "id": "MfXPMl3Hs519"
      },
      "execution_count": null,
      "outputs": []
    },
    {
      "cell_type": "code",
      "source": [
        "# Show aurl for all attachments\n",
        "for a in attachments:\n",
        "  print(a.aurl)"
      ],
      "metadata": {
        "id": "i7xbOWSwy6-3"
      },
      "execution_count": null,
      "outputs": []
    },
    {
      "cell_type": "code",
      "source": [
        "# Show aname for Attachment column in GoogleSheets\n",
        "for a in attachments:\n",
        "  a.taname()"
      ],
      "metadata": {
        "id": "b-yT3LOD1wDi"
      },
      "execution_count": null,
      "outputs": []
    },
    {
      "cell_type": "code",
      "source": [
        "# Show weapon for Weapon column in GoogleSheets\n",
        "for a in attachments:\n",
        "  a.taweapon()"
      ],
      "metadata": {
        "id": "gEyUT5TU16DZ"
      },
      "execution_count": null,
      "outputs": []
    },
    {
      "cell_type": "code",
      "source": [
        "# Show level for Level column in GoogleSheets\n",
        "for a in attachments:\n",
        "  a.talevel()"
      ],
      "metadata": {
        "id": "VSeHZJgq153t"
      },
      "execution_count": null,
      "outputs": []
    },
    {
      "cell_type": "markdown",
      "source": [
        "<br>\n",
        "\n",
        "# Challenges\n",
        "*   Getting a specific html tag using one css selector accross diffrent pages due to inconsistent ordering of tag elements.<br>\n",
        "FIX: Use find() method to search a specific string to get the desired tag.\n",
        "\n",
        "* Dealinjg with None type errors due to absence of desired data on the webpage.\n",
        "FIX: Use if statement to skip the None type values.\n",
        "\n",
        "*   Trying not to make too many requests.<br>\n",
        "FIX: Write and test code in a block that is separeted from the request calls on Google .\n",
        "\n",
        "*   Getting a specific column value of a key from the a diffrent table in Google Sheets.<br>\n",
        "FIX: Use lookup() or vlookup() function.\n",
        "\n",
        "*   Coming up with a ranking system that ranks and groups weapons from highest amount of attachment unlock to least and from lowest level to highest level requirement.<br>\n",
        "FIX: Make a column that appends sum of all attachment's points that the weapon unlocks, weapon name and 100 minus the level requirment. Sort the table by this column in decending  order.\n",
        "\n",
        "<br>"
      ],
      "metadata": {
        "id": "I3UoCiQshCm0"
      }
    }
  ]
}